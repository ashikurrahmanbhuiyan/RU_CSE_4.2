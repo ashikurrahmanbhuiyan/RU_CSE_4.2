{
 "cells": [
  {
   "cell_type": "code",
   "execution_count": null,
   "id": "9c127b48",
   "metadata": {},
   "outputs": [],
   "source": [
    "import pandas as pd\n",
    "from sklearn.model_selection import train_test_split\n",
    "from sklearn.feature_extraction.text import CountVectorizer\n",
    "from sklearn.naive_bayes import MultinomialNB\n",
    "from sklearn.metrics import accuracy_score, precision_score, recall_score, f1_score, confusion_matrix\n",
    "import matplotlib.pyplot as plt\n",
    "import seaborn as sns\n"
   ]
  },
  {
   "cell_type": "code",
   "execution_count": null,
   "id": "9e80b202",
   "metadata": {},
   "outputs": [],
   "source": [
    "# 1. Load the Dataset\n",
    "# You can use a publicly available dataset, e.g., the SMS Spam Collection dataset.\n",
    "# For Colab, you might need to upload it or fetch it from a URL.\n",
    "# Example: If you have 'spam.csv' uploaded to your Colab environment:\n",
    "# df = pd.read_csv('spam.csv', encoding='latin-1') # Adjust encoding if needed\n",
    "# A common format for this dataset has two columns: 'v1' for label and 'v2' for message.\n",
    "# Let's create a dummy dataset for demonstration if you don't have a file ready:\n",
    "\n",
    "\n",
    "data = {\n",
    "    'label': ['ham', 'spam', 'ham', 'spam', 'ham', 'spam', 'ham', 'ham', 'spam', 'ham'],\n",
    "    'message': [\n",
    "        'Go until jurong point, crazy.. Available only in bugis n great world la e buffet... Cine there got amore wat?',\n",
    "        'Free entry in 2 a wkly comp to win FA Cup final tkts 21st May 2005. Text FA to 87121 to receive entry question(std txt rate)T&C\\'s apply 08452810075 fordetails',\n",
    "        'U dun say so early hor... U c already then say...',\n",
    "        'WINNER!! As a valued network customer you have been selected to receivea £900 prize reward! To claim call 09061701461. Claim code KL341. Valid 12 hours only.',\n",
    "        'Nah I don\\'t think he goes to usf, he lives around here though',\n",
    "        'Had your mobile 11 months or more? U R entitled to Update to the latest colour mobiles with camera for Free! Call The Mobile Update Co FREE on 08002986030',\n",
    "        'I\\'m gonna be home soon and i don\\'t want to talk about this stuff anymore tonight, k? I\\'ve cried enough today.',\n",
    "        'I HAVE A DATE ON SUNDAY WITH WILL!!',\n",
    "        'SIX chances to win CASH! From 100 to 20,000 pounds txt> CSH11 and send to 87575. Cost 150p/day, 6days/wk, TsandCs apply Reply HL 4 info',\n",
    "        'As per your request \\'Melle Melle (Oru Minnaminunginte Nurungu Vettam)\\' has been set as your callertune for all Callers. Press *9 to copy your friends Callertune'\n",
    "    ]\n",
    "}\n",
    "df = pd.DataFrame(data)\n",
    "\n",
    "# Rename columns for clarity\n",
    "df.columns = ['Category', 'Message']\n",
    "\n",
    "# 2. Preprocess the Data\n",
    "# Convert labels to numerical format (0 for ham, 1 for spam)\n",
    "df['Category'] = df['Category'].map({'ham': 0, 'spam': 1})\n",
    "\n",
    "\n"
   ]
  },
  {
   "cell_type": "code",
   "execution_count": null,
   "id": "b74298e7",
   "metadata": {},
   "outputs": [],
   "source": [
    "# 3. Split Data into Training and Testing Sets\n",
    "X = df['Message']\n",
    "y = df['Category']\n",
    "X_train, X_test, y_train, y_test = train_test_split(X, y, test_size=0.2, random_state=42)\n",
    "\n",
    "# 4. Text Vectorization (Feature Extraction)\n",
    "# Use CountVectorizer to convert text messages into numerical feature vectors (word counts).\n",
    "# This creates a \"bag-of-words\" model.\n",
    "vectorizer = CountVectorizer()\n",
    "X_train_vectors = vectorizer.fit_transform(X_train)\n",
    "X_test_vectors = vectorizer.transform(X_test) # Use transform, not fit_transform, on test data\n",
    "\n",
    "# You can inspect the vocabulary and shape of the vectors\n",
    "# print(vectorizer.get_feature_names_out())\n",
    "# print(X_train_vectors.shape)\n"
   ]
  },
  {
   "cell_type": "code",
   "execution_count": null,
   "id": "b82b2f00",
   "metadata": {},
   "outputs": [],
   "source": [
    "# 5. Train the Multinomial Naive Bayes Model\n",
    "# alpha=1.0 applies Laplace smoothing\n",
    "mnb_classifier = MultinomialNB(alpha=1.0)\n",
    "mnb_classifier.fit(X_train_vectors, y_train)\n",
    "\n",
    "# 6. Make Predictions\n",
    "y_pred = mnb_classifier.predict(X_test_vectors)"
   ]
  },
  {
   "cell_type": "code",
   "execution_count": null,
   "id": "e514972c",
   "metadata": {},
   "outputs": [],
   "source": [
    "# 7. Evaluate the Model\n",
    "print(\"--- Model Evaluation ---\")\n",
    "print(f\"Accuracy: {accuracy_score(y_test, y_pred):.4f}\")\n",
    "print(f\"Precision: {precision_score(y_test, y_pred):.4f}\")\n",
    "print(f\"Recall: {recall_score(y_test, y_pred):.4f}\")\n",
    "print(f\"F1-Score: {f1_score(y_test, y_pred):.4f}\")"
   ]
  },
  {
   "cell_type": "code",
   "execution_count": null,
   "id": "9415ca65",
   "metadata": {},
   "outputs": [],
   "source": [
    "# Confusion Matrix\n",
    "cm = confusion_matrix(y_test, y_pred)\n",
    "plt.figure(figsize=(6, 4))\n",
    "sns.heatmap(cm, annot=True, fmt='d', cmap='Blues', xticklabels=['Ham', 'Spam'], yticklabels=['Ham', 'Spam'])\n",
    "plt.xlabel('Predicted')\n",
    "plt.ylabel('Actual')\n",
    "plt.title('Confusion Matrix')\n",
    "plt.show()"
   ]
  },
  {
   "cell_type": "code",
   "execution_count": null,
   "id": "cb7cddfe",
   "metadata": {},
   "outputs": [],
   "source": [
    "# 8. Test with New Messages\n",
    "def predict_spam(message):\n",
    "    message_vector = vectorizer.transform([message])\n",
    "    prediction = mnb_classifier.predict(message_vector)\n",
    "    return \"Spam\" if prediction[0] == 1 else \"Ham\"\n",
    "\n",
    "print(\"\\n--- Testing with Custom Messages ---\")\n",
    "test_message1 = \"Congratulations! You've won a free iPhone. Click this link now!\"\n",
    "print(f\"'{test_message1}' is classified as: {predict_spam(test_message1)}\")\n",
    "\n",
    "test_message2 = \"Hey, let's meet up for coffee tomorrow.\"\n",
    "print(f\"'{test_message2}' is classified as: {predict_spam(test_message2)}\")\n",
    "\n",
    "test_message3 = \"Your bank account has been compromised. Verify your details immediately.\"\n",
    "print(f\"'{test_message3}' is classified as: {predict_spam(test_message3)}\")\n",
    "\n",
    "test_message3 = \"rob the bank.\"\n",
    "print(f\"'{test_message3}' is classified as: {predict_spam(test_message3)}\")"
   ]
  }
 ],
 "metadata": {
  "language_info": {
   "name": "python"
  }
 },
 "nbformat": 4,
 "nbformat_minor": 5
}
