{
 "cells": [
  {
   "cell_type": "code",
   "execution_count": 2,
   "id": "903fa495",
   "metadata": {},
   "outputs": [
    {
     "name": "stdout",
     "output_type": "stream",
     "text": [
      "\u001b[33mWARNING: Retrying (Retry(total=4, connect=None, read=None, redirect=None, status=None)) after connection broken by 'ReadTimeoutError(\"HTTPSConnectionPool(host='pypi.org', port=443): Read timed out. (read timeout=15)\")': /simple/nvidia-cusolver-cu12/\u001b[0m\u001b[33m\n",
      "\u001b[0m\u001b[33mWARNING: Retrying (Retry(total=4, connect=None, read=None, redirect=None, status=None)) after connection broken by 'ReadTimeoutError(\"HTTPSConnectionPool(host='pypi.org', port=443): Read timed out. (read timeout=15)\")': /simple/nvidia-nccl-cu12/\u001b[0m\u001b[33m\n",
      "\u001b[0m\u001b[33mWARNING: Retrying (Retry(total=3, connect=None, read=None, redirect=None, status=None)) after connection broken by 'NewConnectionError('<pip._vendor.urllib3.connection.HTTPSConnection object at 0x74b2d75d4f80>: Failed to establish a new connection: [Errno -3] Temporary failure in name resolution')': /simple/nvidia-nccl-cu12/\u001b[0m\u001b[33m\n",
      "\u001b[0m\u001b[33mWARNING: Connection timed out while downloading.\u001b[0m\u001b[33m\n",
      "\u001b[0m\u001b[1;31merror\u001b[0m: \u001b[1mincomplete-download\u001b[0m\n",
      "\n",
      "\u001b[31m×\u001b[0m Download failed because not enough bytes were received (12.3 MB/821.0 MB)\n",
      "\u001b[31m╰─>\u001b[0m URL: \u001b[4;94mhttps://files.pythonhosted.org/packages/56/7e/67c3fe2b8c33f40af06326a3d6ae7776b3e3a01daa8f71d125d78594d874/torch-2.7.1-cp312-cp312-manylinux_2_28_x86_64.whl\u001b[0m\n",
      "\n",
      "\u001b[1;35mnote\u001b[0m: This is an issue with network connectivity, not pip.\n",
      "\u001b[1;36mhint\u001b[0m: Consider using --resume-retries to enable download resumption.\n"
     ]
    }
   ],
   "source": [
    "# Step 1: Install Ultralytics (if not installed already)\n",
    "!pip install ultralytics --upgrade -q\n",
    "\n",
    "# Step 2: Import required packages\n",
    "\n"
   ]
  },
  {
   "cell_type": "code",
   "execution_count": null,
   "id": "e35f4ce3",
   "metadata": {},
   "outputs": [],
   "source": [
    "from ultralytics import YOLO\n",
    "import os"
   ]
  },
  {
   "cell_type": "code",
   "execution_count": null,
   "id": "71c00d8d",
   "metadata": {},
   "outputs": [],
   "source": [
    "# Load YOLOv8 COCO-pretrained model\n",
    "model = YOLO('yolov8n.pt')  # You can also try yolov8s.pt, yolov8m.pt etc.\n",
    "\n",
    "# Train on your face dataset\n",
    "results = model.train(\n",
    "    data='face.yaml',     # Dataset config file\n",
    "    epochs=50,\n",
    "    imgsz=640,\n",
    "    batch=16,\n",
    "    name='face-detector',\n",
    "    project='runs/train',  # Output directory\n",
    ")\n"
   ]
  },
  {
   "cell_type": "code",
   "execution_count": null,
   "id": "feda7785",
   "metadata": {},
   "outputs": [],
   "source": [
    "# Load the best model\n",
    "model = YOLO('runs/train/face-detector/weights/best.pt')\n",
    "\n",
    "# Inference on an image\n",
    "results = model.predict(source='your_test_image.jpg', save=True, conf=0.5)\n"
   ]
  },
  {
   "cell_type": "code",
   "execution_count": null,
   "id": "9c9e3a44",
   "metadata": {},
   "outputs": [],
   "source": [
    "model.val(data='face.yaml')\n"
   ]
  },
  {
   "cell_type": "code",
   "execution_count": 4,
   "id": "90f693b0",
   "metadata": {},
   "outputs": [
    {
     "ename": "SyntaxError",
     "evalue": "invalid syntax (4121495725.py, line 12)",
     "output_type": "error",
     "traceback": [
      "  \u001b[36mCell\u001b[39m\u001b[36m \u001b[39m\u001b[32mIn[4]\u001b[39m\u001b[32m, line 12\u001b[39m\n\u001b[31m    \u001b[39m\u001b[31mpath: ../datasets/coco # dataset root dir\u001b[39m\n          ^\n\u001b[31mSyntaxError\u001b[39m\u001b[31m:\u001b[39m invalid syntax\n"
     ]
    }
   ],
   "source": [
    "# Ultralytics 🚀 AGPL-3.0 License - https://ultralytics.com/license\n",
    "\n",
    "# COCO 2017 dataset https://cocodataset.org by Microsoft\n",
    "# Documentation: https://docs.ultralytics.com/datasets/detect/coco/\n",
    "# Example usage: yolo train data=coco.yaml\n",
    "# parent\n",
    "# ├── ultralytics\n",
    "# └── datasets\n",
    "#     └── coco  ← downloads here (20.1 GB)\n",
    "\n",
    "# Train/val/test sets as 1) dir: path/to/imgs, 2) file: path/to/imgs.txt, or 3) list: [path/to/imgs1, path/to/imgs2, ..]\n",
    "path: ../datasets/coco # dataset root dir\n",
    "train: train2017.txt # train images (relative to 'path') 118287 images\n",
    "val: val2017.txt # val images (relative to 'path') 5000 images\n",
    "test: test-dev2017.txt # 20288 of 40670 images, submit to https://competitions.codalab.org/competitions/20794\n",
    "\n",
    "# Classes\n",
    "names:\n",
    "  0: person\n",
    "  1: bicycle\n",
    "  2: car\n",
    "  3: motorcycle\n",
    "  4: airplane\n",
    "  5: bus\n",
    "  6: train\n",
    "  7: truck\n",
    "  8: boat\n",
    "  9: traffic light\n",
    "  10: fire hydrant\n",
    "  11: stop sign\n",
    "  12: parking meter\n",
    "  13: bench\n",
    "  14: bird\n",
    "  15: cat\n",
    "  16: dog\n",
    "  17: horse\n",
    "  18: sheep\n",
    "  19: cow\n",
    "  20: elephant\n",
    "  21: bear\n",
    "  22: zebra\n",
    "  23: giraffe\n",
    "  24: backpack\n",
    "  25: umbrella\n",
    "  26: handbag\n",
    "  27: tie\n",
    "  28: suitcase\n",
    "  29: frisbee\n",
    "  30: skis\n",
    "  31: snowboard\n",
    "  32: sports ball\n",
    "  33: kite\n",
    "  34: baseball bat\n",
    "  35: baseball glove\n",
    "  36: skateboard\n",
    "  37: surfboard\n",
    "  38: tennis racket\n",
    "  39: bottle\n",
    "  40: wine glass\n",
    "  41: cup\n",
    "  42: fork\n",
    "  43: knife\n",
    "  44: spoon\n",
    "  45: bowl\n",
    "  46: banana\n",
    "  47: apple\n",
    "  48: sandwich\n",
    "  49: orange\n",
    "  50: broccoli\n",
    "  51: carrot\n",
    "  52: hot dog\n",
    "  53: pizza\n",
    "  54: donut\n",
    "  55: cake\n",
    "  56: chair\n",
    "  57: couch\n",
    "  58: potted plant\n",
    "  59: bed\n",
    "  60: dining table\n",
    "  61: toilet\n",
    "  62: tv\n",
    "  63: laptop\n",
    "  64: mouse\n",
    "  65: remote\n",
    "  66: keyboard\n",
    "  67: cell phone\n",
    "  68: microwave\n",
    "  69: oven\n",
    "  70: toaster\n",
    "  71: sink\n",
    "  72: refrigerator\n",
    "  73: book\n",
    "  74: clock\n",
    "  75: vase\n",
    "  76: scissors\n",
    "  77: teddy bear\n",
    "  78: hair drier\n",
    "  79: toothbrush\n",
    "\n",
    "# Download script/URL (optional)\n",
    "download: |\n",
    "  from pathlib import Path\n",
    "\n",
    "  from ultralytics.utils.downloads import download\n",
    "\n",
    "  # Download labels\n",
    "  segments = True  # segment or box labels\n",
    "  dir = Path(yaml[\"path\"])  # dataset root dir\n",
    "  url = \"https://github.com/ultralytics/assets/releases/download/v0.0.0/\"\n",
    "  urls = [url + (\"coco2017labels-segments.zip\" if segments else \"coco2017labels.zip\")]  # labels\n",
    "  download(urls, dir=dir.parent)\n",
    "  # Download data\n",
    "  urls = [\n",
    "      \"http://images.cocodataset.org/zips/train2017.zip\",  # 19G, 118k images\n",
    "      \"http://images.cocodataset.org/zips/val2017.zip\",  # 1G, 5k images\n",
    "      \"http://images.cocodataset.org/zips/test2017.zip\",  # 7G, 41k images (optional)\n",
    "  ]\n",
    "  download(urls, dir=dir / \"images\", threads=3)"
   ]
  }
 ],
 "metadata": {
  "kernelspec": {
   "display_name": ".venv",
   "language": "python",
   "name": "python3"
  },
  "language_info": {
   "codemirror_mode": {
    "name": "ipython",
    "version": 3
   },
   "file_extension": ".py",
   "mimetype": "text/x-python",
   "name": "python",
   "nbconvert_exporter": "python",
   "pygments_lexer": "ipython3",
   "version": "3.12.3"
  }
 },
 "nbformat": 4,
 "nbformat_minor": 5
}
