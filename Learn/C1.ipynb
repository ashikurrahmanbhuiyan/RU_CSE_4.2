{
 "cells": [
  {
   "cell_type": "code",
   "execution_count": 6,
   "id": "557df4d7",
   "metadata": {},
   "outputs": [
    {
     "name": "stdout",
     "output_type": "stream",
     "text": [
      "Dd1\n",
      "Aa1\n"
     ]
    }
   ],
   "source": [
    "def ceaser_chipher(text,shift=3):\n",
    "    result = \"\"\n",
    "    for char in text:\n",
    "        if char.isupper():\n",
    "            result += chr((ord(char) - ord('A') + shift) %26 + ord('A'))\n",
    "        elif char.islower():\n",
    "            result += chr((ord(char) - ord('a') + shift) %26 + ord('a'))\n",
    "        else:\n",
    "            result += char\n",
    "    return result\n",
    "\n",
    "def ceaser_derypt(chipher_text,shift = 3):\n",
    "    return ceaser_chipher(chipher_text,-shift)\n",
    "\n",
    "\n",
    "plaintext = \"Aa1\"\n",
    "chipher = ceaser_chipher(plaintext)\n",
    "dechiper = ceaser_derypt(chipher)\n",
    "\n",
    "print( chipher)\n",
    "print(dechiper)"
   ]
  },
  {
   "cell_type": "code",
   "execution_count": 11,
   "id": "a9d024a2",
   "metadata": {},
   "outputs": [
    {
     "name": "stdout",
     "output_type": "stream",
     "text": [
      "['hel', 'lo']\n",
      "['xyz', 'ab']\n",
      "['hel', 'lo']\n"
     ]
    }
   ],
   "source": [
    "def chunk_text(text, size):\n",
    "    return [text[i:i+size] for  i in range (0,len(text),size)]\n",
    "\n",
    "plaintext = \"hello\"\n",
    "\n",
    "blocks = chunk_text(plaintext,3)\n",
    "\n",
    "substitution_map = {\n",
    "    'hel' : 'xyz',\n",
    "    'lo' : 'ab',\n",
    "}\n",
    "\n",
    "\n",
    "reverse_map = {v:k for k,v in substitution_map.items()}\n",
    "\n",
    "chipher_blocks = [substitution_map.get(block, '???') for block in blocks]\n",
    "chipher_text = ''.join(chipher_blocks)\n",
    "\n",
    "decrypt_blocks = [reverse_map.get(block, '???') for block in chipher_blocks]\n",
    "\n",
    "\n",
    "print (blocks)\n",
    "print (chipher_blocks)\n",
    "print(decrypt_blocks)"
   ]
  },
  {
   "cell_type": "code",
   "execution_count": null,
   "id": "b51e80cd",
   "metadata": {},
   "outputs": [
    {
     "name": "stdout",
     "output_type": "stream",
     "text": [
      "AKS$H$I$\n",
      "AHK$SI$$\n",
      "AKS$H$I$\n",
      "ASHIK\n"
     ]
    }
   ],
   "source": [
    "\n",
    "def encrypt_transposition(plaintext, width):\n",
    "    cleaned = plaintext.replace(\" \",\"\").upper()\n",
    "\n",
    "    while len(cleaned) % width != 0:\n",
    "        cleaned += '$'\n",
    "    \n",
    "    rows = [cleaned[i:i+width] for i in range(0,len(cleaned),width)]\n",
    "\n",
    "    chiphertext = ''\n",
    "    for col in range(width):\n",
    "        for row in rows:\n",
    "            chiphertext += row[col]\n",
    "\n",
    "    return chiphertext\n",
    "\n",
    "\n",
    "def decrypt_transposition(chipher_text, width):\n",
    "    num_rows = len(chipher_text) // width\n",
    "\n",
    "    columns = [chipher_text[i*num_rows:(i+1)*num_rows] for i in range(width)]\n",
    "\n",
    "    plaintext = ''\n",
    "\n",
    "    for i in range(num_rows):\n",
    "        for col in columns:\n",
    "            plaintext += col[i]\n",
    "    \n",
    "    return plaintext\n",
    "\n",
    "\n",
    "plaintext = \"Ashik\"\n",
    "width = 4\n",
    "\n",
    "chipher1 = encrypt_transposition(plaintext,width)\n",
    "chipher2 = encrypt_transposition(chipher1,width) \n",
    "\n",
    "original1 = decrypt_transposition(chipher2,width)\n",
    "original2 = decrypt_transposition(original1,width)\n",
    "\n",
    "print(chipher1)\n",
    "print(chipher2)\n",
    "\n",
    "print(original1)\n",
    "print(original2.rstrip('$'))\n"
   ]
  },
  {
   "cell_type": "code",
   "execution_count": 50,
   "id": "67ceffdc",
   "metadata": {},
   "outputs": [
    {
     "name": "stdout",
     "output_type": "stream",
     "text": [
      "7 is probably prime\n"
     ]
    }
   ],
   "source": [
    "import random\n",
    "\n",
    "def lehman(n, k = 10):\n",
    "    if n <=2:\n",
    "        return n == 2\n",
    "    if n%2 ==0:\n",
    "        return False\n",
    "    \n",
    "    for _ in range(k):\n",
    "        a = random.randint(2,n-2)\n",
    "        r = pow(a,(n-1)/2) % n\n",
    "\n",
    "        if r != 1 and r != n-1:\n",
    "            return False\n",
    "    return True\n",
    "\n",
    "num = 7\n",
    "\n",
    "if(lehman(num)):\n",
    "    print(f\"{num} is probably prime\")\n",
    "else:\n",
    "    print(f\"{num} is composite\")"
   ]
  },
  {
   "cell_type": "code",
   "execution_count": null,
   "id": "b8f5dc86",
   "metadata": {},
   "outputs": [
    {
     "name": "stdout",
     "output_type": "stream",
     "text": [
      "True\n"
     ]
    }
   ],
   "source": [
    "r = pow(3,4//2)\n",
    "print(r)"
   ]
  },
  {
   "cell_type": "code",
   "execution_count": null,
   "id": "c3aa3e8b",
   "metadata": {},
   "outputs": [],
   "source": []
  }
 ],
 "metadata": {
  "kernelspec": {
   "display_name": "Python 3",
   "language": "python",
   "name": "python3"
  },
  "language_info": {
   "codemirror_mode": {
    "name": "ipython",
    "version": 3
   },
   "file_extension": ".py",
   "mimetype": "text/x-python",
   "name": "python",
   "nbconvert_exporter": "python",
   "pygments_lexer": "ipython3",
   "version": "3.12.3"
  }
 },
 "nbformat": 4,
 "nbformat_minor": 5
}
